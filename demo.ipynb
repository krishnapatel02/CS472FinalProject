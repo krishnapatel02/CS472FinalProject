{
 "cells": [
  {
   "cell_type": "code",
   "execution_count": null,
   "metadata": {},
   "outputs": [],
   "source": [
    "from main import *"
   ]
  },
  {
   "cell_type": "code",
   "execution_count": null,
   "metadata": {},
   "outputs": [],
   "source": [
    "arguments = args(\n",
    "\t\tepochs=10,\n",
    "\t\tdropout= .2,\n",
    "\t\tbatch_size=16,\n",
    "\t\tlr=0.001,\n",
    "\t\toptim=optim.SGD,\n",
    "\t\tloss_fn=torch.nn.CrossEntropyLoss\n",
    "\t)\n",
    "\n",
    "runTests(arguments)"
   ]
  },
  {
   "cell_type": "code",
   "execution_count": null,
   "metadata": {},
   "outputs": [],
   "source": [
    "arguments = args(\n",
    "\t\tepochs=10,\n",
    "\t\tdropout= .2,\n",
    "\t\tbatch_size=16,\n",
    "\t\tlr=0.001,\n",
    "\t\toptim=optim.Adagrad,\n",
    "\t\tloss_fn=torch.nn.CrossEntropyLoss\n",
    "\t)\n",
    "\n",
    "runTests(arguments)"
   ]
  },
  {
   "cell_type": "code",
   "execution_count": null,
   "metadata": {},
   "outputs": [],
   "source": [
    "arguments = args(\n",
    "\t\tepochs=10,\n",
    "\t\tdropout= .2,\n",
    "\t\tbatch_size=16,\n",
    "\t\tlr=0.001,\n",
    "\t\toptim=optim.Adam,\n",
    "\t\tloss_fn=torch.nn.CrossEntropyLoss\n",
    "\t)\n",
    "\n",
    "runTests(arguments)"
   ]
  },
  {
   "cell_type": "code",
   "execution_count": null,
   "metadata": {},
   "outputs": [],
   "source": [
    "arguments = args(\n",
    "\t\tepochs=10,\n",
    "\t\tdropout= .2,\n",
    "\t\tbatch_size=32,\n",
    "\t\tlr=0.001,\n",
    "\t\toptim=optim.SGD,\n",
    "\t\tloss_fn=torch.nn.CrossEntropyLoss\n",
    "\t)\n",
    "\n",
    "runTests(arguments)"
   ]
  },
  {
   "cell_type": "code",
   "execution_count": null,
   "metadata": {},
   "outputs": [],
   "source": [
    "arguments = args(\n",
    "\t\tepochs=10,\n",
    "\t\tdropout= .2,\n",
    "\t\tbatch_size=8,\n",
    "\t\tlr=0.001,\n",
    "\t\toptim=optim.SGD,\n",
    "\t\tloss_fn=torch.nn.CrossEntropyLoss\n",
    "\t)\n",
    "\n",
    "runTests(arguments)"
   ]
  },
  {
   "cell_type": "code",
   "execution_count": null,
   "metadata": {},
   "outputs": [],
   "source": [
    "arguments = args(\n",
    "\t\tepochs=10,\n",
    "\t\tdropout= .2,\n",
    "\t\tbatch_size=16,\n",
    "\t\tlr=0.01,\n",
    "\t\toptim=optim.SGD,\n",
    "\t\tloss_fn=torch.nn.CrossEntropyLoss\n",
    "\t)\n",
    "\n",
    "runTests(arguments)"
   ]
  },
  {
   "cell_type": "code",
   "execution_count": null,
   "metadata": {},
   "outputs": [],
   "source": [
    "arguments = args(\n",
    "\t\tepochs=10,\n",
    "\t\tdropout= .2,\n",
    "\t\tbatch_size=16,\n",
    "\t\tlr=0.0001,\n",
    "\t\toptim=optim.SGD,\n",
    "\t\tloss_fn=torch.nn.CrossEntropyLoss\n",
    "\t)\n",
    "\n",
    "runTests(arguments)"
   ]
  },
  {
   "cell_type": "code",
   "execution_count": null,
   "metadata": {},
   "outputs": [],
   "source": [
    "arguments = args(\n",
    "\t\tepochs=10,\n",
    "\t\tdropout= .2,\n",
    "\t\tbatch_size=16,\n",
    "\t\tlr=0.001,\n",
    "\t\toptim=optim.SGD,\n",
    "\t\tloss_fn=torch.nn.MSELoss\n",
    "\t)\n",
    "\n",
    "runTests(arguments)"
   ]
  },
  {
   "cell_type": "code",
   "execution_count": null,
   "metadata": {},
   "outputs": [],
   "source": [
    "arguments = args(\n",
    "\t\tepochs=10,\n",
    "\t\tdropout= .5,\n",
    "\t\tbatch_size=16,\n",
    "\t\tlr=0.001,\n",
    "\t\toptim=optim.SGD,\n",
    "\t\tloss_fn=torch.nn.CrossEntropyLoss\n",
    "\t)\n",
    "\n",
    "runTests(arguments)"
   ]
  },
  {
   "cell_type": "code",
   "execution_count": null,
   "metadata": {},
   "outputs": [],
   "source": [
    "arguments = args(\n",
    "\t\tepochs=10,\n",
    "\t\tdropout= .1,\n",
    "\t\tbatch_size=16,\n",
    "\t\tlr=0.001,\n",
    "\t\toptim=optim.SGD,\n",
    "\t\tloss_fn=torch.nn.CrossEntropyLoss\n",
    "\t)\n",
    "\n",
    "runTests(arguments)"
   ]
  }
 ],
 "metadata": {
  "kernelspec": {
   "display_name": "Python 3",
   "language": "python",
   "name": "python3"
  },
  "language_info": {
   "codemirror_mode": {
    "name": "ipython",
    "version": 3
   },
   "file_extension": ".py",
   "mimetype": "text/x-python",
   "name": "python",
   "nbconvert_exporter": "python",
   "pygments_lexer": "ipython3",
   "version": "3.10.6"
  },
  "orig_nbformat": 4
 },
 "nbformat": 4,
 "nbformat_minor": 2
}
